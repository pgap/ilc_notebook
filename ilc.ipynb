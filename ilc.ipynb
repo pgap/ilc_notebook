{
 "cells": [
  {
   "cell_type": "code",
   "execution_count": 1,
   "id": "ef4072d6",
   "metadata": {},
   "outputs": [],
   "source": [
    "import numpy as np\n",
    "from scipy import signal\n",
    "\n",
    "# Butterworth LP filter\n",
    "\n",
    "lowpassBW = 2e5  # cutoff frequency\n",
    "Ts = 1.1925e-07  # sampling time\n",
    "\n",
    "wc = 2*np.pi*lowpassBW\n",
    "\n",
    "alfa_w = [1/wc**2,  np.sqrt(2)/wc, 1]\n",
    "a, b, c = alfa_w\n",
    "\n",
    "dfilt_a0 =  4*a + 2*Ts*b + Ts**2*c\n",
    "dfilt_a1 = (-8*a + 2*Ts**2*c) / dfilt_a0\n",
    "dfilt_a2 = (4*a - 2*Ts*b + Ts**2*c) / dfilt_a0\n",
    "dfilt_b0 = Ts**2 / dfilt_a0\n",
    "dfilt_b1 = 2*Ts**2 / dfilt_a0\n",
    "dfilt_b2 = Ts**2 / dfilt_a0\n",
    "dfilt_a0 = 1\n",
    "\n",
    "dfilt_A = np.array([dfilt_a0, dfilt_a1, dfilt_a2])\n",
    "dfilt_B = np.array([dfilt_b0, dfilt_b1, dfilt_b2])"
   ]
  },
  {
   "cell_type": "code",
   "execution_count": 2,
   "id": "b623202a",
   "metadata": {},
   "outputs": [
    {
     "data": {
      "text/plain": [
       "(array([0.00505053, 0.01010106, 0.00505053]),\n",
       " array([ 1.        , -1.78914482,  0.80934694]))"
      ]
     },
     "execution_count": 2,
     "metadata": {},
     "output_type": "execute_result"
    }
   ],
   "source": [
    "dfilt_B, dfilt_A"
   ]
  },
  {
   "cell_type": "code",
   "execution_count": 3,
   "id": "9386610e",
   "metadata": {},
   "outputs": [
    {
     "data": {
      "text/plain": [
       "(array([0.00506849, 0.01013698, 0.00506849]),\n",
       " array([ 1.        , -1.78875316,  0.80902713]))"
      ]
     },
     "execution_count": 3,
     "metadata": {},
     "output_type": "execute_result"
    }
   ],
   "source": [
    "# Compare with polynomials from filter generator.\n",
    "signal.butter(2, lowpassBW, fs=1/Ts)"
   ]
  },
  {
   "cell_type": "code",
   "execution_count": 4,
   "id": "23371309",
   "metadata": {},
   "outputs": [],
   "source": [
    "# PID controller\n",
    "\n",
    "Kp = 1.9678\n",
    "Ki = 4.6041e+05\n",
    "Kd = 4.6271e-07\n",
    "Tf = 2.7131e-07\n",
    "Nd = 3.6858e+06\n",
    "\n",
    "pid_a0 = 1\n",
    "pid_a1 = Nd*Ts - 2\n",
    "pid_a2 = 1 - Nd*Ts\n",
    "pid_b0 = Kp+ Kd*Nd\n",
    "pid_b1 = Kp*(Nd*Ts - 2) + Ki*Ts - Kd*2*Nd\n",
    "pid_b2 = Kp*(1 - Nd*Ts) + Ki*Ts*(Nd*Ts - 1) + Kd*Nd\n",
    "\n",
    "pid_A = np.array([pid_a0, pid_a1, pid_a2])\n",
    "pid_B = np.array([pid_b0, pid_b1, pid_b2])"
   ]
  },
  {
   "cell_type": "code",
   "execution_count": 5,
   "id": "ba947487",
   "metadata": {},
   "outputs": [
    {
     "data": {
      "text/plain": [
       "(array([ 3.67325652, -6.42669876,  2.77757424]),\n",
       " array([ 1.        , -1.56046835,  0.56046835]))"
      ]
     },
     "execution_count": 5,
     "metadata": {},
     "output_type": "execute_result"
    }
   ],
   "source": [
    "pid_B, pid_A"
   ]
  },
  {
   "cell_type": "code",
   "execution_count": 6,
   "id": "c9394605",
   "metadata": {},
   "outputs": [],
   "source": [
    "# Read matlab data\n",
    "from scipy.io import loadmat\n",
    "mat = loadmat('ilc_test.mat')\n",
    "\n",
    "ILC_start = mat['ILC_start'][0,0]\n",
    "ILC_end = mat['ILC_end'][0,0]\n",
    "time_shift = mat['time_shift'][0,0]\n",
    "PI_err = mat['PI_err'][:,0]\n",
    "k_ILC = mat['K_ilc'][0,0]\n",
    "u_FF = mat['u_FF'][:,0]"
   ]
  },
  {
   "cell_type": "code",
   "execution_count": 7,
   "id": "735b691a",
   "metadata": {},
   "outputs": [],
   "source": [
    "# ILC window\n",
    "start_n = round(ILC_start / Ts)\n",
    "end_n = round(ILC_end / Ts)\n",
    "\n",
    "PI_err = PI_err[start_n:end_n + 1]\n",
    "\n",
    "# PID controller response and time shift\n",
    "shift_n = round(time_shift / Ts)\n",
    "\n",
    "PI_err_C = signal.lfilter(pid_B, pid_A, PI_err)\n",
    "PI_err_C_shift = np.append(PI_err_C[shift_n:], np.zeros(shift_n))"
   ]
  },
  {
   "cell_type": "code",
   "execution_count": 8,
   "id": "9d82e237",
   "metadata": {},
   "outputs": [
    {
     "data": {
      "text/plain": [
       "[<matplotlib.lines.Line2D at 0x7f5cd57e6950>]"
      ]
     },
     "execution_count": 8,
     "metadata": {},
     "output_type": "execute_result"
    },
    {
     "data": {
      "image/png": "[encoded data removed]",
      "text/plain": [
       "<Figure size 432x288 with 1 Axes>"
      ]
     },
     "metadata": {
      "needs_background": "light"
     },
     "output_type": "display_data"
    }
   ],
   "source": [
    "import pylab as pl\n",
    "pl.plot(PI_err_C_shift)"
   ]
  },
  {
   "cell_type": "code",
   "execution_count": 16,
   "id": "7555e480",
   "metadata": {},
   "outputs": [],
   "source": [
    "# FF value from last iteration.\n",
    "#u_ILC = u_FF[start_n:end_n+1]\n",
    "u_ILC = np.ones(PI_err_C_shift.size)\n",
    "    \n",
    "u_ILC_corr = u_ILC + k_ILC * PI_err_C_shift\n",
    "u_ILC_new = signal.filtfilt(dfilt_B, dfilt_A, u_ILC_corr)"
   ]
  },
  {
   "cell_type": "code",
   "execution_count": 17,
   "id": "35e7272e",
   "metadata": {},
   "outputs": [
    {
     "data": {
      "text/plain": [
       "[<matplotlib.lines.Line2D at 0x7f5cd346bd90>]"
      ]
     },
     "execution_count": 17,
     "metadata": {},
     "output_type": "execute_result"
    },
    {
     "data": {
      "image/png": "[encoded data removed]",
      "text/plain": [
       "<Figure size 432x288 with 1 Axes>"
      ]
     },
     "metadata": {
      "needs_background": "light"
     },
     "output_type": "display_data"
    }
   ],
   "source": [
    "pl.plot(u_ILC_new)"
   ]
  },
  {
   "cell_type": "code",
   "execution_count": 18,
   "id": "e7ad73d7",
   "metadata": {},
   "outputs": [],
   "source": [
    "# Initial filter state for direct-form II transposed filter function\n",
    "z2 = u_ILC_corr[0] * (dfilt_B[2] - dfilt_A[2])\n",
    "z1 = z2 + u_ILC_corr[0] * (dfilt_B[1] - dfilt_A[1]) \n",
    "zi = [z1, z2]\n",
    "\n",
    "u_ILC_fwd, zf = signal.lfilter(dfilt_B, dfilt_A, u_ILC_corr, zi=zi)\n",
    "u_ILC_rev, _  = signal.lfilter(dfilt_B, dfilt_A, u_ILC_fwd[::-1], zi=zf)\n",
    "u_ILC_new = u_ILC_rev[::-1]"
   ]
  },
  {
   "cell_type": "code",
   "execution_count": 19,
   "id": "bf1ba2e5",
   "metadata": {},
   "outputs": [
    {
     "data": {
      "text/plain": [
       "[<matplotlib.lines.Line2D at 0x7f5cd32ce770>]"
      ]
     },
     "execution_count": 19,
     "metadata": {},
     "output_type": "execute_result"
    },
    {
     "data": {
      "image/png": "[encoded data removed]",
      "text/plain": [
       "<Figure size 432x288 with 1 Axes>"
      ]
     },
     "metadata": {
      "needs_background": "light"
     },
     "output_type": "display_data"
    }
   ],
   "source": [
    "pl.plot(u_ILC_new)"
   ]
  },
  {
   "cell_type": "code",
   "execution_count": 20,
   "id": "13652f50",
   "metadata": {},
   "outputs": [
    {
     "data": {
      "text/plain": [
       "[<matplotlib.lines.Line2D at 0x7f5cd3340fa0>]"
      ]
     },
     "execution_count": 20,
     "metadata": {},
     "output_type": "execute_result"
    },
    {
     "data": {
      "image/png": "[encoded data removed]",
      "text/plain": [
       "<Figure size 432x288 with 1 Axes>"
      ]
     },
     "metadata": {
      "needs_background": "light"
     },
     "output_type": "display_data"
    }
   ],
   "source": [
    "pl.plot(mat['u_ILC_new'])\n"
   ]
  },
  {
   "cell_type": "code",
   "execution_count": null,
   "id": "4b863997",
   "metadata": {},
   "outputs": [],
   "source": []
  },
  {
   "cell_type": "code",
   "execution_count": null,
   "id": "23001eb0",
   "metadata": {},
   "outputs": [],
   "source": []
  }
 ],
 "metadata": {
  "kernelspec": {
   "display_name": "Python 3 (ipykernel)",
   "language": "python",
   "name": "python3"
  },
  "language_info": {
   "codemirror_mode": {
    "name": "ipython",
    "version": 3
   },
   "file_extension": ".py",
   "mimetype": "text/x-python",
   "name": "python",
   "nbconvert_exporter": "python",
   "pygments_lexer": "ipython3",
   "version": "3.10.2"
  }
 },
 "nbformat": 4,
 "nbformat_minor": 5
}
